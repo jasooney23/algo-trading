{
 "cells": [
  {
   "cell_type": "code",
   "execution_count": 1,
   "metadata": {},
   "outputs": [
    {
     "name": "stdout",
     "output_type": "stream",
     "text": [
      "2.10.1\n",
      "[PhysicalDevice(name='/physical_device:GPU:0', device_type='GPU')]\n"
     ]
    }
   ],
   "source": [
    "import yfinance as yf\n",
    "import pandas as pd\n",
    "from matplotlib import pyplot as plt\n",
    "\n",
    "import tensorflow as tf\n",
    "from tensorflow import keras\n",
    "import numpy as np\n",
    "import datetime, pickle\n",
    "np.set_printoptions(suppress=True)\n",
    "\n",
    "print(tf.__version__)\n",
    "# This code allows for the GPU to be utilized properly.\n",
    "tf.autograph.set_verbosity(0)\n",
    "physical_devices = tf.config.list_physical_devices(\"GPU\")\n",
    "try:\n",
    "    tf.config.experimental.set_memory_growth(physical_devices[0], True)\n",
    "except:\n",
    "    pass\n",
    "\n",
    "print(physical_devices)"
   ]
  },
  {
   "cell_type": "code",
   "execution_count": null,
   "metadata": {},
   "outputs": [],
   "source": [
    "def sampleDataset(data, num_samples, interval_len, feature_size, offset=0):\n",
    "    # creates samples of data from a dataset\n",
    "    # returns the intervals, and the target price changes\n",
    "\n",
    "    samples = np.ndarray((num_samples, interval_len, feature_size))\n",
    "    target_prices = np.ndarray((num_samples, feature_size))\n",
    "    for x in range(num_samples):\n",
    "        start_index = round(x * (data.shape[0] - interval_len - 1 - offset) / num_samples) + offset\n",
    "        # data_range = data.shape[0] - offset\n",
    "\n",
    "        samples[x] = data[start_index:start_index + interval_len]\n",
    "        target_prices[x] = data[start_index + interval_len]\n",
    "    \n",
    "    return samples, target_prices\n",
    "\n",
    "def normalize_data(data, method=\"one\"):\n",
    "    if method==\"one\":\n",
    "        maxes = np.max(data, axis=0)\n",
    "        mins = np.min(data, axis=0)\n",
    "        return (data - mins) / (maxes - mins)\n",
    "    elif method==\"zscore\":\n",
    "        mean = np.mean(data, axis=0)\n",
    "        stdev = np.std(data, axis=0)\n",
    "        return (data - mean) / stdev"
   ]
  },
  {
   "cell_type": "code",
   "execution_count": null,
   "metadata": {},
   "outputs": [],
   "source": [
    "TICKER = [\"^GSPC\"]\n",
    "\n",
    "DATASET_SIZE = 10092 # Number of samples PER TICKER\n",
    "INTERVAL = 7\n",
    "FEATURE_SIZE = 5 # open, high, low, volume\n",
    "DATA_OFFSET = 14000\n",
    "\n",
    "# fetch hists\n",
    "try:\n",
    "    with open(\"hists.dat\", \"rb\") as f:\n",
    "        hists = pickle.load(f) \n",
    "except:\n",
    "    hists = []\n",
    "    for x in range(len(TICKER)):\n",
    "        print(\"LOADING TICKER \" + str(x) + \"/\" + str(len(TICKER)), end=\"\\r\")\n",
    "        hist = yf.Ticker(TICKER[x]).history(interval=\"1d\", period=\"max\")\n",
    "        if not hist.empty and np.sum(np.isnan(hist.loc[:, \"Open\"].to_numpy())) == 0:\n",
    "            hist.drop(columns=[\"Dividends\", \"Stock Splits\"], inplace=True)\n",
    "            hists.append(hist)\n",
    "\n",
    "# Define\n",
    "price_intervals = np.ndarray((len(hists), DATASET_SIZE, INTERVAL, FEATURE_SIZE))\n",
    "target_prices = np.ndarray((len(hists), DATASET_SIZE, FEATURE_SIZE))\n",
    "max_prices = np.ndarray((len(hists),))\n",
    "min_prices = np.ndarray((len(hists),))\n",
    "means = np.ndarray((len(hists),))\n",
    "stdevs = np.ndarray((len(hists),))\n",
    "\n",
    "\n",
    "# Process features/data\n",
    "for x in range(len(hists)):\n",
    "\n",
    "    hist = hists[x]\n",
    "    display(hist)\n",
    "    columns = [hist.loc[:, col].to_numpy() for col in hist.columns]\n",
    "\n",
    "    max_prices[x] = np.max(columns[0])\n",
    "    min_prices[x] = np.min(columns[0])\n",
    "    means[x] = np.mean(columns[0])\n",
    "    stdevs[x] = np.std(columns[0])\n",
    "    data = np.stack(columns, axis=1)\n",
    "    data = normalize_data(data, method=\"zscore\")\n",
    "\n",
    "    price_intervals[x], target_prices[x] = sampleDataset(data, DATASET_SIZE, INTERVAL, FEATURE_SIZE, offset=DATA_OFFSET)"
   ]
  },
  {
   "cell_type": "code",
   "execution_count": 3,
   "metadata": {},
   "outputs": [
    {
     "name": "stdout",
     "output_type": "stream",
     "text": [
      "Model: \"sequential\"\n",
      "_________________________________________________________________\n",
      " Layer (type)                Output Shape              Param #   \n",
      "=================================================================\n",
      " lstm (LSTM)                 (None, 7, 64)             17920     \n",
      "                                                                 \n",
      " lstm_1 (LSTM)               (None, 32)                12416     \n",
      "                                                                 \n",
      " dense (Dense)               (None, 64)                2112      \n",
      "                                                                 \n",
      " dense_1 (Dense)             (None, 64)                4160      \n",
      "                                                                 \n",
      " dense_2 (Dense)             (None, 5)                 325       \n",
      "                                                                 \n",
      "=================================================================\n",
      "Total params: 36,933\n",
      "Trainable params: 36,933\n",
      "Non-trainable params: 0\n",
      "_________________________________________________________________\n"
     ]
    }
   ],
   "source": [
    "model = keras.models.load_model(\"model\")\n",
    "\n",
    "model.summary()"
   ]
  }
 ],
 "metadata": {
  "kernelspec": {
   "display_name": "tf",
   "language": "python",
   "name": "python3"
  },
  "language_info": {
   "codemirror_mode": {
    "name": "ipython",
    "version": 3
   },
   "file_extension": ".py",
   "mimetype": "text/x-python",
   "name": "python",
   "nbconvert_exporter": "python",
   "pygments_lexer": "ipython3",
   "version": "3.9.18"
  }
 },
 "nbformat": 4,
 "nbformat_minor": 2
}
