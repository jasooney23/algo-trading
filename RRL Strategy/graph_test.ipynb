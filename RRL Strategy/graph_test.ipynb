{
 "cells": [
  {
   "cell_type": "code",
   "execution_count": 1,
   "metadata": {},
   "outputs": [
    {
     "data": {
      "text/plain": [
       "[PhysicalDevice(name='/physical_device:GPU:0', device_type='GPU')]"
      ]
     },
     "execution_count": 1,
     "metadata": {},
     "output_type": "execute_result"
    }
   ],
   "source": [
    "import tensorflow as tf\n",
    "import numpy as np\n",
    "import matplotlib.pyplot as plt\n",
    "import time\n",
    "tf.config.list_physical_devices('GPU')"
   ]
  },
  {
   "cell_type": "code",
   "execution_count": 20,
   "metadata": {},
   "outputs": [
    {
     "name": "stdout",
     "output_type": "stream",
     "text": [
      "tf.Tensor(4.0, shape=(), dtype=float32)\n",
      "tracing\n",
      "Tensor(\"b:0\", shape=(), dtype=float32)\n",
      "Tensor(\"x:0\", shape=(1, 2), dtype=float32)\n",
      "Tensor(\"MatMul:0\", shape=(1, 1), dtype=float32)\n",
      "tracing\n",
      "3.0\n",
      "Tensor(\"x:0\", shape=(1, 2), dtype=float32)\n",
      "Tensor(\"MatMul:0\", shape=(1, 1), dtype=float32)\n"
     ]
    }
   ],
   "source": [
    "# Define a Python function.\n",
    "@tf.function\n",
    "def a_regular_function(x, y, b):\n",
    "  print(\"tracing\")\n",
    "  print(b)\n",
    "  print(x)\n",
    "  x = tf.matmul(x, y)\n",
    "  print(x)\n",
    "  x = x + b\n",
    "  return x\n",
    "\n",
    "# Make some tensors.\n",
    "x1 = tf.constant([[1.0, 2.0]])\n",
    "y1 = tf.constant([[2.0], [3.0]])\n",
    "b1 = tf.constant(4.0)\n",
    "print(b1)\n",
    "\n",
    "a = a_regular_function(x1, y1, b1)\n",
    "a = a_regular_function(2 * x1, y1, b1)\n",
    "b = a_regular_function(x1, y1, 3.)\n"
   ]
  },
  {
   "cell_type": "code",
   "execution_count": 24,
   "metadata": {},
   "outputs": [
    {
     "name": "stdout",
     "output_type": "stream",
     "text": [
      "tf.Tensor([[5.]], shape=(1, 1), dtype=float32)\n"
     ]
    },
    {
     "ename": "",
     "evalue": "",
     "output_type": "error",
     "traceback": [
      "\u001b[1;31mThe Kernel crashed while executing code in the current cell or a previous cell. \n",
      "\u001b[1;31mPlease review the code in the cell(s) to identify a possible cause of the failure. \n",
      "\u001b[1;31mClick <a href='https://aka.ms/vscodeJupyterKernelCrash'>here</a> for more info. \n",
      "\u001b[1;31mView Jupyter <a href='command:jupyter.viewOutput'>log</a> for further details."
     ]
    }
   ],
   "source": [
    "p = np.arange(2, dtype=np.float32).reshape((1, 2))\n",
    "q = np.arange(2, dtype=np.float32).reshape((2, 1))\n",
    "r = tf.constant(4.)\n",
    "a = a_regular_function(p, q, r)\n",
    "print(a)"
   ]
  }
 ],
 "metadata": {
  "kernelspec": {
   "display_name": "tf",
   "language": "python",
   "name": "python3"
  },
  "language_info": {
   "codemirror_mode": {
    "name": "ipython",
    "version": 3
   },
   "file_extension": ".py",
   "mimetype": "text/x-python",
   "name": "python",
   "nbconvert_exporter": "python",
   "pygments_lexer": "ipython3",
   "version": "3.9.18"
  }
 },
 "nbformat": 4,
 "nbformat_minor": 2
}
