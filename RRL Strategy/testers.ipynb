{
 "cells": [
  {
   "cell_type": "code",
   "execution_count": 1,
   "metadata": {},
   "outputs": [],
   "source": [
    "import tensorflow as tf\n",
    "from tensorflow import keras\n",
    "import numpy as np\n",
    "import matplotlib.pyplot as plt"
   ]
  },
  {
   "cell_type": "code",
   "execution_count": 2,
   "metadata": {},
   "outputs": [],
   "source": [
    "''' SIMLUATE PRICE SERIES'''\n",
    "\n",
    "SIZE = 10000\n",
    "\n",
    "k = 3\n",
    "a = 0.9\n",
    "p_series = np.ndarray((SIZE,))\n",
    "b_series = np.ndarray((SIZE,))\n",
    "\n",
    "p_series[0] = 0\n",
    "b_series[0] = 0\n",
    "\n",
    "for i in range(1, SIZE):\n",
    "    p_series[i] =  p_series[i - 1] + b_series[i - 1] + k * np.random.normal()\n",
    "    b_series[i] = a * b_series[i - 1] + np.random.normal()\n",
    "\n",
    "R = np.max(p_series) - np.min(p_series)\n",
    "z_series = np.exp(p_series / R)\n",
    "\n",
    "# plt.plot(z_series)"
   ]
  },
  {
   "cell_type": "code",
   "execution_count": 3,
   "metadata": {},
   "outputs": [
    {
     "name": "stdout",
     "output_type": "stream",
     "text": [
      "Model: \"model\"\n",
      "_________________________________________________________________\n",
      " Layer (type)                Output Shape              Param #   \n",
      "=================================================================\n",
      " input_1 (InputLayer)        [(None, 10)]              0         \n",
      "                                                                 \n",
      " dense (Dense)               (None, 10)                110       \n",
      "                                                                 \n",
      " dense_1 (Dense)             (None, 1)                 11        \n",
      "                                                                 \n",
      "=================================================================\n",
      "Total params: 121\n",
      "Trainable params: 121\n",
      "Non-trainable params: 0\n",
      "_________________________________________________________________\n"
     ]
    }
   ],
   "source": [
    "from keras import layers\n",
    "\n",
    "INPUT_SIZE = 10\n",
    "input = layers.Input(shape=(INPUT_SIZE,))\n",
    "x = layers.Dense(10, activation='relu')(input)\n",
    "x = layers.Dense(1, activation='tanh')(x)\n",
    "F_curr_model = keras.Model(inputs=input, outputs=x)\n",
    "F_prev_model = keras.Model(inputs=input, outputs=x)\n",
    "F_curr_model.summary()"
   ]
  },
  {
   "cell_type": "code",
   "execution_count": 4,
   "metadata": {},
   "outputs": [],
   "source": [
    "def calc_returns(mu, riskyRt_arr, action_arr, riskfreeRt=0, delta=0):\n",
    "    '''Calculates the returns (Rt) as a set (array).\n",
    "       For an input array of size N, returns an array of size N-1. The first term gets cut off.'''\n",
    "\n",
    "    Ft_curr = action_arr[1:] # Ft\n",
    "    Ft_prev = action_arr[:-1] # Ft - 1\n",
    "\n",
    "    z_curr = riskyRt_arr[1:] # zt\n",
    "    z_prev = riskyRt_arr[:-1] # zt - 1\n",
    "\n",
    "    rt_curr = z_curr - z_prev # rt\n",
    "\n",
    "    return mu * (riskfreeRt + Ft_prev * (rt_curr - riskfreeRt) - delta * np.abs(Ft_curr - Ft_prev))"
   ]
  },
  {
   "cell_type": "code",
   "execution_count": 4,
   "metadata": {},
   "outputs": [],
   "source": [
    "def calc_return(mu, rt, Ft_curr, Ft_prev, rft=0, delta=0):\n",
    "    '''Calculates the returns (Rt) on-line.'''\n",
    "\n",
    "    return mu * (rft + Ft_prev * (rt - rft) - delta * tf.math.abs(Ft_curr - Ft_prev))"
   ]
  },
  {
   "cell_type": "code",
   "execution_count": null,
   "metadata": {},
   "outputs": [],
   "source": [
    "def calc_DSR(n, returns_arr):\n",
    "    '''Calculates the differential Sharpe ratios (DSR, Dt) as a set (array).\n",
    "       For an input array of size N, returns an array of size N-1. The first term gets cut off.'''\n",
    "    \n",
    "    size = returns_arr.shape[0]\n",
    "    At = np.ndarray((size,))\n",
    "    Bt = np.ndarray((size,))\n",
    "    dDt_dRt = np.ndarray((size,))\n",
    "\n",
    "    At[0] = 0\n",
    "    Bt[0] = 0\n",
    "\n",
    "    for i in range(1, size):\n",
    "        At[i] = At[i - 1] + n * (returns_arr[i] - At[i - 1])\n",
    "        Bt[i] = Bt[i - 1] + n * (returns_arr[i] ** 2 - At[i - 1])\n",
    "    \n",
    "    dDt_dRt = (Bt[:-1] - At[:-1] * returns_arr[1:]) / ((Bt[:-1] - At[:-1] ** 2) ** 1.5)"
   ]
  },
  {
   "cell_type": "code",
   "execution_count": 5,
   "metadata": {},
   "outputs": [],
   "source": [
    "def calc_DSR(n, Rt, At_prev, Bt_prev):\n",
    "    '''Calculates the differential Sharpe ratios (DSR, Dt) on-line.'''\n",
    "\n",
    "    At_curr = At_prev + n * (Rt - At_prev)\n",
    "    Bt_curr = Bt_prev + n * (Rt ** 2 - Bt_prev)\n",
    "\n",
    "    dDt_dRt = (Bt_prev - At_prev * Rt) / ((Bt_prev - At_prev ** 2) ** 1.5)\n",
    "\n",
    "    return dDt_dRt, At_curr, Bt_curr"
   ]
  },
  {
   "cell_type": "code",
   "execution_count": 9,
   "metadata": {},
   "outputs": [
    {
     "name": "stdout",
     "output_type": "stream",
     "text": [
      "tf.Tensor([[-0.]], shape=(1, 1), dtype=float32)\n",
      "[<tf.Tensor: shape=(10, 10), dtype=float32, numpy=\n",
      "array([[-2.8303205e-03,  3.6167494e-05,  0.0000000e+00,  2.1593079e-03,\n",
      "        -1.6811885e-03,  0.0000000e+00, -2.1597650e-04, -2.0770312e-03,\n",
      "         0.0000000e+00,  0.0000000e+00],\n",
      "       [-2.8317044e-03,  3.6185178e-05,  0.0000000e+00,  2.1603638e-03,\n",
      "        -1.6820106e-03,  0.0000000e+00, -2.1608210e-04, -2.0780468e-03,\n",
      "         0.0000000e+00,  0.0000000e+00],\n",
      "       [-2.8400086e-03,  3.6291294e-05,  0.0000000e+00,  2.1666992e-03,\n",
      "        -1.6869431e-03,  0.0000000e+00, -2.1671578e-04, -2.0841407e-03,\n",
      "         0.0000000e+00,  0.0000000e+00],\n",
      "       [-2.8483127e-03,  3.6397407e-05,  0.0000000e+00,  2.1730345e-03,\n",
      "        -1.6918757e-03,  0.0000000e+00, -2.1734944e-04, -2.0902348e-03,\n",
      "         0.0000000e+00,  0.0000000e+00],\n",
      "       [-2.8510808e-03,  3.6432779e-05,  0.0000000e+00,  2.1751462e-03,\n",
      "        -1.6935199e-03,  0.0000000e+00, -2.1756068e-04, -2.0922660e-03,\n",
      "         0.0000000e+00,  0.0000000e+00],\n",
      "       [-2.8372407e-03,  3.6255922e-05,  0.0000000e+00,  2.1645874e-03,\n",
      "        -1.6852990e-03,  0.0000000e+00, -2.1650456e-04, -2.0821095e-03,\n",
      "         0.0000000e+00,  0.0000000e+00],\n",
      "       [-2.8427767e-03,  3.6326666e-05,  0.0000000e+00,  2.1688109e-03,\n",
      "        -1.6885874e-03,  0.0000000e+00, -2.1692700e-04, -2.0861721e-03,\n",
      "         0.0000000e+00,  0.0000000e+00],\n",
      "       [-2.8400086e-03,  3.6291294e-05,  0.0000000e+00,  2.1666992e-03,\n",
      "        -1.6869431e-03,  0.0000000e+00, -2.1671578e-04, -2.0841407e-03,\n",
      "         0.0000000e+00,  0.0000000e+00],\n",
      "       [-2.8344726e-03,  3.6220550e-05,  0.0000000e+00,  2.1624756e-03,\n",
      "        -1.6836547e-03,  0.0000000e+00, -2.1629332e-04, -2.0800780e-03,\n",
      "         0.0000000e+00,  0.0000000e+00],\n",
      "       [-2.8400086e-03,  3.6291294e-05,  0.0000000e+00,  2.1666992e-03,\n",
      "        -1.6869431e-03,  0.0000000e+00, -2.1671578e-04, -2.0841407e-03,\n",
      "         0.0000000e+00,  0.0000000e+00]], dtype=float32)>, <tf.Tensor: shape=(1, 10), dtype=float32, numpy=\n",
      "array([[-2.8343725e-03,  3.6220772e-05,  0.0000000e+00,  2.1617673e-03,\n",
      "        -1.6839945e-03,  0.0000000e+00, -2.1623880e-04, -2.0798636e-03,\n",
      "         0.0000000e+00,  0.0000000e+00]], dtype=float32)>, <tf.Tensor: shape=(10, 1), dtype=float32, numpy=\n",
      "array([[2.98944698e-03],\n",
      "       [1.25456285e-02],\n",
      "       [0.00000000e+00],\n",
      "       [1.77821748e-05],\n",
      "       [1.52629595e-02],\n",
      "       [0.00000000e+00],\n",
      "       [7.02405535e-03],\n",
      "       [2.15644366e-03],\n",
      "       [0.00000000e+00],\n",
      "       [0.00000000e+00]], dtype=float32)>, <tf.Tensor: shape=(1, 1), dtype=float32, numpy=array([[0.00508463]], dtype=float32)>]\n",
      "tf.Tensor(0, shape=(), dtype=int32)\n"
     ]
    }
   ],
   "source": [
    "t = 5 + INPUT_SIZE\n",
    "rho = 0.01\n",
    "\n",
    "with tf.GradientTape(persistent=True) as tape:\n",
    "\n",
    "    rt = 1\n",
    "    mu = 3\n",
    "    F_prev = F_prev_model(z_series[t - 1 - INPUT_SIZE:t - 1][np.newaxis, :])\n",
    "    F_curr = F_curr_model(z_series[t - INPUT_SIZE:t][np.newaxis, :])\n",
    "    Rt = calc_return(mu, rt, F_curr, F_prev)\n",
    "\n",
    "    At_prev = 0\n",
    "    Bt_prev = 1\n",
    "\n",
    "    dDt_dRt, At_curr, Bt_curr = calc_DSR(0.01, Rt, At_prev, Bt_prev)\n",
    "\n",
    "dRt_dFcurr = tape.gradient(Rt, F_curr)\n",
    "dRt_dFprev = tape.gradient(Rt, F_prev)\n",
    "print(dRt_dFcurr)\n",
    "dFcurr_dThetacurr = tape.gradient(F_curr, F_curr_model.trainable_variables)\n",
    "dFprev_dThetaprev = tape.gradient(F_prev, F_prev_model.trainable_variables)\n",
    "\n",
    "\n",
    "gradient_update = []\n",
    "for i in range(len(dFcurr_dThetacurr)):\n",
    "    gradient_update.append(rho * dDt_dRt * (dRt_dFcurr * dFcurr_dThetacurr[i] + dRt_dFprev * dFprev_dThetaprev[i]))\n"
   ]
  },
  {
   "cell_type": "code",
   "execution_count": 3,
   "metadata": {},
   "outputs": [
    {
     "data": {
      "text/plain": [
       "[<matplotlib.lines.Line2D at 0x1dd11100a30>]"
      ]
     },
     "execution_count": 3,
     "metadata": {},
     "output_type": "execute_result"
    },
    {
     "data": {
      "image/png": "[encoded data removed]",
      "text/plain": [
       "<Figure size 640x480 with 1 Axes>"
      ]
     },
     "metadata": {},
     "output_type": "display_data"
    }
   ],
   "source": []
  }
 ],
 "metadata": {
  "kernelspec": {
   "display_name": "tf",
   "language": "python",
   "name": "python3"
  },
  "language_info": {
   "codemirror_mode": {
    "name": "ipython",
    "version": 3
   },
   "file_extension": ".py",
   "mimetype": "text/x-python",
   "name": "python",
   "nbconvert_exporter": "python",
   "pygments_lexer": "ipython3",
   "version": "3.9.18"
  }
 },
 "nbformat": 4,
 "nbformat_minor": 2
}
