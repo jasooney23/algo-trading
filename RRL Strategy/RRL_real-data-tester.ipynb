{
 "cells": [
  {
   "cell_type": "code",
   "execution_count": null,
   "metadata": {},
   "outputs": [],
   "source": [
    "import tensorflow as tf\n",
    "from tensorflow import keras\n",
    "import numpy as np\n",
    "import matplotlib.pyplot as plt\n",
    "import yfinance as yf\n",
    "tf.config.list_physical_devices('GPU')"
   ]
  },
  {
   "cell_type": "code",
   "execution_count": null,
   "metadata": {},
   "outputs": [],
   "source": [
    "price_hist = yf.Ticker('NVDA').history(interval='1d', start='2020-01-01', end='2024-01-01')\n",
    "price_hist.tail()\n",
    "price_series = price_hist['Close']"
   ]
  },
  {
   "cell_type": "code",
   "execution_count": null,
   "metadata": {},
   "outputs": [],
   "source": [
    "def gen_price_series(size=10000, k=3, a=0.9, instances=1):\n",
    "    p_series = np.ndarray((instances, size,), dtype=np.float32)\n",
    "    b_series = np.ndarray((instances, size,), dtype=np.float32)\n",
    "    p_series[:, 0] = 0\n",
    "    b_series[:, 0] = 0\n",
    "\n",
    "    for i in range(1, size):\n",
    "        p_series[:, i] =  p_series[:, i-1] + b_series[:, i-1] + k * np.random.normal(size=instances)\n",
    "        b_series[:, i] = a * b_series[:, i-1] + np.random.normal(size=instances)\n",
    "\n",
    "    # shape: (instances)\n",
    "    R = np.max(p_series, axis=1) - np.min(p_series, axis=1)\n",
    "    z_series = np.exp(p_series / np.repeat(R[:, np.newaxis], size, axis=1))\n",
    "\n",
    "    return z_series, p_series\n",
    "\n",
    "'''To convert real prices into model-appropriate price series:\n",
    "    1. Set the initial price as 0.\n",
    "    2. Scale the price to [-1, 1], with 0 as the mean.\n",
    "    3. Apply exp.'''\n",
    "\n",
    "# this function takes MULTIPLE INPUTS!!!\n",
    "def normalize_price_series(price_series):\n",
    "    initial_prices = price_series[:, 0]\n",
    "    range = np.max(price_series, axis=1) - np.min(price_series, axis=1)\n",
    "    scaled_prices = (price_series - np.repeat(initial_prices[:, np.newaxis], price_series.shape[1], axis=1)) / np.repeat(range[:, np.newaxis], price_series.shape[1], axis=1)\n",
    "    \n",
    "    return np.exp(scaled_prices)\n",
    "\n",
    "a = normalize_price_series(price_series.to_numpy()[np.newaxis, :])\n",
    "plt.plot(price_series.to_numpy())\n",
    "plt.show()\n",
    "plt.plot(a[0])\n",
    "plt.show()\n"
   ]
  },
  {
   "cell_type": "code",
   "execution_count": null,
   "metadata": {},
   "outputs": [],
   "source": []
  }
 ],
 "metadata": {
  "kernelspec": {
   "display_name": "tf",
   "language": "python",
   "name": "python3"
  },
  "language_info": {
   "codemirror_mode": {
    "name": "ipython",
    "version": 3
   },
   "file_extension": ".py",
   "mimetype": "text/x-python",
   "name": "python",
   "nbconvert_exporter": "python",
   "pygments_lexer": "ipython3",
   "version": "0.0.0"
  }
 },
 "nbformat": 4,
 "nbformat_minor": 2
}
